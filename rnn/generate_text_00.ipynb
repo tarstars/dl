{
 "cells": [
  {
   "cell_type": "markdown",
   "id": "c45efbf4-0bd3-4bc0-a408-da85e63524f3",
   "metadata": {},
   "source": [
    "# Include "
   ]
  },
  {
   "cell_type": "code",
   "execution_count": 2,
   "id": "67caadb1-ccc2-4323-9ae3-ef178f1e796a",
   "metadata": {},
   "outputs": [],
   "source": [
    "import json\n",
    "import numpy as np\n",
    "import os\n",
    "import random\n",
    "\n",
    "from os.path import expanduser"
   ]
  },
  {
   "cell_type": "markdown",
   "id": "0363cbe6-77a3-40ba-b44f-f7a3438720c4",
   "metadata": {},
   "source": [
    "# Definitions "
   ]
  },
  {
   "cell_type": "code",
   "execution_count": null,
   "id": "2d55a04a-e98d-4766-82d9-f867ae744b29",
   "metadata": {},
   "outputs": [],
   "source": []
  },
  {
   "cell_type": "markdown",
   "id": "062097bb-d313-4b7b-b442-726b09992dab",
   "metadata": {},
   "source": [
    "# Main course"
   ]
  },
  {
   "cell_type": "markdown",
   "id": "1b762dc6-d11b-415d-b954-e103edf71ff0",
   "metadata": {},
   "source": [
    "# Dataset description"
   ]
  },
  {
   "cell_type": "markdown",
   "id": "3e6a9ced-223c-46e6-a540-02cb1eaf1085",
   "metadata": {},
   "source": [
    "* source: https://www.geoapify.com/download-all-the-cities-towns-villages/\n",
    "* file for russian locations: https://www.geoapify.com/data-share/localities/ru.zip"
   ]
  },
  {
   "cell_type": "markdown",
   "id": "d6a69822-7920-4604-9413-14680a836bd1",
   "metadata": {},
   "source": [
    "## Load geography"
   ]
  },
  {
   "cell_type": "code",
   "execution_count": 3,
   "id": "1b819bc8-3177-4f21-9ae6-eb6bf0a2c760",
   "metadata": {},
   "outputs": [],
   "source": [
    "base = expanduser(\"~/database/shad/generate_text/ru\")"
   ]
  },
  {
   "cell_type": "code",
   "execution_count": 4,
   "id": "5eb5a016-5a38-4fea-8561-afc20caefb8d",
   "metadata": {},
   "outputs": [],
   "source": [
    "filenames = [\"city\", \"hamlet\", \"town\", \"village\"]"
   ]
  },
  {
   "cell_type": "code",
   "execution_count": 5,
   "id": "e8e9896c-d22c-496c-8003-faaf41332225",
   "metadata": {},
   "outputs": [],
   "source": [
    "dataset_raw = [json.loads(line) for current_name in filenames for line in open(os.path.join(base, f\"place-{current_name}.ndjson\"))]"
   ]
  },
  {
   "cell_type": "code",
   "execution_count": 6,
   "id": "f87d2c4c-b1f5-4408-9ae9-dad330baee82",
   "metadata": {},
   "outputs": [
    {
     "data": {
      "text/plain": [
       "253192"
      ]
     },
     "execution_count": 6,
     "metadata": {},
     "output_type": "execute_result"
    }
   ],
   "source": [
    "len(dataset_raw)"
   ]
  },
  {
   "cell_type": "code",
   "execution_count": 7,
   "id": "d1a66db4-0057-4a69-a7ef-6571809cd7b1",
   "metadata": {},
   "outputs": [
    {
     "data": {
      "text/plain": [
       "57"
      ]
     },
     "execution_count": 7,
     "metadata": {},
     "output_type": "execute_result"
    }
   ],
   "source": [
    "sum(1 for r in dataset_raw if \"name\" not in r)"
   ]
  },
  {
   "cell_type": "code",
   "execution_count": 8,
   "id": "3aaf3627-c97c-48b8-9a1b-db797c6896b4",
   "metadata": {},
   "outputs": [],
   "source": [
    "names = [r[\"name\"] for r in dataset_raw if \"name\" in r]"
   ]
  },
  {
   "cell_type": "code",
   "execution_count": 9,
   "id": "464e5d01-84fe-4f6a-a59b-038620d30512",
   "metadata": {},
   "outputs": [
    {
     "data": {
      "text/plain": [
       "253135"
      ]
     },
     "execution_count": 9,
     "metadata": {},
     "output_type": "execute_result"
    }
   ],
   "source": [
    "len(names)"
   ]
  },
  {
   "cell_type": "code",
   "execution_count": 10,
   "id": "658c1f9e-24ad-4853-bf0d-f7a6b207bdbf",
   "metadata": {},
   "outputs": [],
   "source": [
    "uniq_names = list(set(names))"
   ]
  },
  {
   "cell_type": "code",
   "execution_count": 11,
   "id": "69068416-4211-48cc-a9ba-4f6322f4ba9e",
   "metadata": {},
   "outputs": [
    {
     "data": {
      "text/plain": [
       "77411"
      ]
     },
     "execution_count": 11,
     "metadata": {},
     "output_type": "execute_result"
    }
   ],
   "source": [
    "len(uniq_names)"
   ]
  },
  {
   "cell_type": "code",
   "execution_count": 12,
   "id": "f4c17670-248b-4291-b3cf-dc906f9ce3a2",
   "metadata": {},
   "outputs": [],
   "source": [
    "random.shuffle(uniq_names)"
   ]
  },
  {
   "cell_type": "code",
   "execution_count": 13,
   "id": "df5ffa28-da44-49d3-b165-886ba2de0965",
   "metadata": {},
   "outputs": [
    {
     "data": {
      "text/plain": [
       "['Большие Рожки',\n",
       " 'Хорошие Воды',\n",
       " 'Исанино',\n",
       " 'Колташи',\n",
       " 'Кулары',\n",
       " 'Тургояк',\n",
       " 'ДРСУ-1',\n",
       " 'Шанай',\n",
       " 'Таскаиха',\n",
       " 'Воргониха']"
      ]
     },
     "execution_count": 13,
     "metadata": {},
     "output_type": "execute_result"
    }
   ],
   "source": [
    "uniq_names[:10]"
   ]
  },
  {
   "cell_type": "code",
   "execution_count": 14,
   "id": "3fbd2790-6a3c-4fc2-8262-daea715e7bc5",
   "metadata": {},
   "outputs": [],
   "source": [
    "alphabet=sorted(list(set(c for r in uniq_names for c in r)))"
   ]
  },
  {
   "cell_type": "code",
   "execution_count": 15,
   "id": "104c00b6-cc51-4519-a9d9-65f2b2313d22",
   "metadata": {},
   "outputs": [
    {
     "data": {
      "text/plain": [
       "' \"(),-./0123456789IVXc\\xa0«»́ЁАБВГДЕЖЗИЙКЛМНОПРСТУФХЦЧШЩЫЭЮЯабвгдежзийклмнопрстуфхцчшщъыьэюяё№'"
      ]
     },
     "execution_count": 15,
     "metadata": {},
     "output_type": "execute_result"
    }
   ],
   "source": [
    "\"\".join(alphabet)"
   ]
  },
  {
   "cell_type": "code",
   "execution_count": 16,
   "id": "eef8b3f8-fa44-4077-8b67-dc8e4720070d",
   "metadata": {},
   "outputs": [],
   "source": [
    "ss_alphabet = alphabet + [\"<\", \">\"]"
   ]
  },
  {
   "cell_type": "code",
   "execution_count": 17,
   "id": "ace01756-efa8-4614-9ca5-a593f6744ce3",
   "metadata": {},
   "outputs": [],
   "source": [
    "c2ind = {c:ind for ind, c in enumerate(ss_alphabet)}\n",
    "ind2c = {ind:c for ind, c in enumerate(ss_alphabet)}"
   ]
  },
  {
   "cell_type": "code",
   "execution_count": 18,
   "id": "5222f465-f99c-4be0-acb3-62b44425dc5e",
   "metadata": {},
   "outputs": [],
   "source": [
    "ss_names = [\"<\" + v + \">\" for v in uniq_names]"
   ]
  },
  {
   "cell_type": "code",
   "execution_count": 19,
   "id": "e7cb4ace-3f88-4994-80e0-3ef5bacf78a8",
   "metadata": {},
   "outputs": [
    {
     "data": {
      "text/plain": [
       "['<Большие Рожки>',\n",
       " '<Хорошие Воды>',\n",
       " '<Исанино>',\n",
       " '<Колташи>',\n",
       " '<Кулары>',\n",
       " '<Тургояк>',\n",
       " '<ДРСУ-1>',\n",
       " '<Шанай>',\n",
       " '<Таскаиха>',\n",
       " '<Воргониха>']"
      ]
     },
     "execution_count": 19,
     "metadata": {},
     "output_type": "execute_result"
    }
   ],
   "source": [
    "ss_names[:10]"
   ]
  },
  {
   "cell_type": "code",
   "execution_count": 20,
   "id": "586e2092-3782-41ad-aa48-2d48f993c533",
   "metadata": {},
   "outputs": [],
   "source": [
    "text = \"\".join(ss_names)"
   ]
  },
  {
   "cell_type": "code",
   "execution_count": 21,
   "id": "a00e86a3-53a8-4c4c-ace4-b9500590067e",
   "metadata": {},
   "outputs": [
    {
     "data": {
      "text/plain": [
       "93"
      ]
     },
     "execution_count": 21,
     "metadata": {},
     "output_type": "execute_result"
    }
   ],
   "source": [
    "v_sz = len(set(ss_alphabet))\n",
    "v_sz"
   ]
  },
  {
   "cell_type": "code",
   "execution_count": 23,
   "id": "85a960c4-a044-4ca2-a37d-669f8960815e",
   "metadata": {},
   "outputs": [
    {
     "data": {
      "text/plain": [
       "'<Большие Рожки><Хорошие Воды><Исанино><Колташи><Кулары><Тургояк><ДРСУ-1><Шанай><Таскаиха><Воргониха><Киска-Елга><Альмеева><Мордовский Бугуруслан><Кобляки><Мочаки-Первые><Парца><Широгорье><Талисман><Зюзинка><Обновление><Бачгины><Сардыган><Семановцы><Таратухино><Христофорово><Вельяминовка><Новоилецк><Балма><Ольховка><посёлок дома отдыха «Румянцево»><Нижняя Тига><Цветочный><Залоинка><Шиванда><Новые Ключищи><Тирякле><Малое Займище><Обидимо><Арметрахимово><Владимиров><Поляновка><Легчищево><Шагаки><Крашняково><Куртеково><Князевое><Развильное><Сасылыкан><Александро-Ерша><Бодалино><Новогригорьевская><Лакедемоновка><Торжнево><Корезино><Хыркасы><Усть-Есь><Гоголины><Рузские просторы><Маральский><Попелёво><Борисовец><Алманчино><Верховина><Дигилевка><Шемячкино><Верхнее Гаквари><Иляшкино><Немерь><Сегежа><Жестылево><Кара-Паго><Васькин Поток><Лучинка><Боборыкино><Ново-Кусково><Винищи><Надовражино><Атюловский><Борцино><Сандин 2-й><Новодворский><Колодезное><Замошанье><Верхние Сунары><Паршин><Шманы><Тайлакова><Шурагат><Летнереченский><Старотештелимские Выселки><Исупово><Редькины><Маломедведевский><Егутово><Белый Колодец><Безымянное><Нижние Дупли><Богачев><Слободские Дубровки><Вашуриха><станции Юматово><Кармановка><Юм><Старые Ишли><Вально><Багчино><Докукинский><Кусем><Лучане><Семьёново><посёлок Конезавода><Бочаровский><Коммунстрой><Любицкий><Большое Пехово><Ворзы><Чигарева><Сухановский><Штанды><Юголок><Акжарское><Гаписово><Ламаница><Староабзаново><Динская><Батурина><Цыпино><Машкино><Большие Камешки><Воронковы><Самохино><Старое Ромашкино><Соломейно><Гудово><Инквалита><Кайдаково><Енахметово><Юхари-Ярак><Зеленодолье><Пумра><Рябцево><Малая Сопка><Эжол><Шалдово><Стародевичье><Лебия><Фёдоровщина><Кудымкар><Хаяла><Базилевский><Коситчено><Докша><Дегтярёвский><Лосиная Лука><Мортки><Петренково><Малая Западенка><Пелтола><Ушлейка><Визги><Коровье Село><Исаковщина><Чертицко><Ушаковское><Трубников Бор><Кореновск><Бурмусово><Конецполье><Елесино><Гриханиха><Ямы><Новосондрово><Малое Загарино><Сарайлы><Д'"
      ]
     },
     "execution_count": 23,
     "metadata": {},
     "output_type": "execute_result"
    }
   ],
   "source": [
    "text[:2000]"
   ]
  },
  {
   "cell_type": "code",
   "execution_count": 38,
   "id": "8ccc8d87-b375-4905-a123-d94f16bb36a0",
   "metadata": {},
   "outputs": [],
   "source": [
    "def gen_pieces(text, seq_len):\n",
    "    n = len(text)\n",
    "    p = 0\n",
    "    first = True\n",
    "    while True:\n",
    "        if p + seq_len > n:\n",
    "            p = (p + 1) % seq_len\n",
    "            first = True\n",
    "        yield first, text[p:p + seq_len]\n",
    "        first = False\n",
    "        p += seq_len"
   ]
  },
  {
   "cell_type": "code",
   "execution_count": 39,
   "id": "7b576773-32d5-4edf-8390-fe4e3e676589",
   "metadata": {},
   "outputs": [],
   "source": [
    "it = gen_pieces(\"абвгдеёжзиклмн\", 3)"
   ]
  },
  {
   "cell_type": "code",
   "execution_count": 40,
   "id": "b5e40988-8186-41f8-a01e-971976c09ed5",
   "metadata": {},
   "outputs": [
    {
     "data": {
      "text/plain": [
       "[(True, 'абв'),\n",
       " (False, 'где'),\n",
       " (False, 'ёжз'),\n",
       " (False, 'икл'),\n",
       " (True, 'бвг'),\n",
       " (False, 'деё'),\n",
       " (False, 'жзи'),\n",
       " (False, 'клм'),\n",
       " (True, 'вгд'),\n",
       " (False, 'еёж'),\n",
       " (False, 'зик'),\n",
       " (False, 'лмн'),\n",
       " (True, 'абв'),\n",
       " (False, 'где'),\n",
       " (False, 'ёжз'),\n",
       " (False, 'икл'),\n",
       " (True, 'бвг'),\n",
       " (False, 'деё'),\n",
       " (False, 'жзи'),\n",
       " (False, 'клм')]"
      ]
     },
     "execution_count": 40,
     "metadata": {},
     "output_type": "execute_result"
    }
   ],
   "source": [
    "[next(it) for _ in range(20)]"
   ]
  },
  {
   "cell_type": "markdown",
   "id": "52ec9b63-4d4a-4b57-934a-e46d67177db7",
   "metadata": {},
   "source": [
    "# RNN"
   ]
  },
  {
   "cell_type": "code",
   "execution_count": 41,
   "id": "6e36c8ad-ce65-4eb4-b85e-81fa737dde74",
   "metadata": {},
   "outputs": [],
   "source": [
    "hsz = 100 # hidden size\n",
    "vsz = len(ss_alphabet) # vocabulary size\n",
    "seq_length = 25 # the size of window\n",
    "lr = 1e-3"
   ]
  },
  {
   "cell_type": "code",
   "execution_count": 42,
   "id": "74347ae3-1c49-44eb-a138-a119d0b79aab",
   "metadata": {},
   "outputs": [],
   "source": [
    "Wxh = np.random.randn(hsz, vsz) * 0.01\n",
    "Whh = np.random.randn(hsz, hsz) * 0.01\n",
    "Why = np.random.randn(vsz, hsz) * 0.01\n",
    "bh = np.zeros((hsz, 1))\n",
    "by = np.zeros((vsz, 1))"
   ]
  },
  {
   "cell_type": "code",
   "execution_count": null,
   "id": "dc584f3e-b5fe-4052-aee5-789779e8917f",
   "metadata": {},
   "outputs": [],
   "source": [
    "def calcLoss(ind_input, ind_target, hprev):\n",
    "    xs, hs, ys, ps = {}, {}, {}, {}\n",
    "    hs[-1] = np.copy(hprev)\n",
    "    loss = 0\n",
    "    for t in range(len(ind_input)):\n",
    "        xs[t] = np.zeros((vsz, 1))\n",
    "        xs[t][ind_input[t]] = 1\n",
    "        hs[t] = np.tanh(Wxh@xs[t] + Whh@hs[t-1] + bh)\n",
    "        ys[t] = Why@hs[t] + by\n",
    "        ps[t] = np.exp(ys[t]) / np.sum(np.exp(ys[t]))\n",
    "        loss -= np.log(ps[t][ind_target[t], 0])\n",
    "    dWhh, dWxh, dWhy = np.zeros_like(Whh), np.zeros_like(Wxh), np.zeros_like(Why)\n",
    "    dbh, dby = np.zeros_like(bh), np.zeros_like(by)\n",
    "    dhnext = np.zeros_like(hs[0])\n",
    "    for t in reversed(range(len(ind_input))):\n",
    "        dy = np.copy(ps[t])\n",
    "        dy[ind_target[t]] -= 1 # backprop into y. see http://cs231n.github.io/neural-networks-case-study/#grad if confused here\n",
    "        dWhy += dy@hs[t].T\n",
    "        dby += dy\n",
    "        dh = Why.T @ dy + dhnext # backprop into h\n",
    "        dhraw = (1 - hs[t] * hs[t]) * dh # backprop through tanh nonlinearity\n",
    "        dbh += dhraw\n",
    "        dWxh += dhraw @ xs[t].T\n",
    "        dWhh += dhraw @ hs[t-1].T\n",
    "        dhnext = Whh.T @ dhraw\n",
    "    for dparam in [dWxh, dWhh, dWhy, dbh, dby]:\n",
    "        np.clip(dparam, -5, 5, out=dparam) # clip to mitigate exploding gradients\n",
    "    return loss, dWxh, dWhh, dWhy, dbh, dby, hs[-1]"
   ]
  },
  {
   "cell_type": "code",
   "execution_count": null,
   "id": "2b50d56c-7554-4eda-8bfb-8ff1e51a9923",
   "metadata": {},
   "outputs": [],
   "source": []
  }
 ],
 "metadata": {
  "kernelspec": {
   "display_name": "Python 3 (ipykernel)",
   "language": "python",
   "name": "python3"
  },
  "language_info": {
   "codemirror_mode": {
    "name": "ipython",
    "version": 3
   },
   "file_extension": ".py",
   "mimetype": "text/x-python",
   "name": "python",
   "nbconvert_exporter": "python",
   "pygments_lexer": "ipython3",
   "version": "3.12.8"
  }
 },
 "nbformat": 4,
 "nbformat_minor": 5
}
