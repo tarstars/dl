{
 "cells": [
  {
   "cell_type": "markdown",
   "id": "c45efbf4-0bd3-4bc0-a408-da85e63524f3",
   "metadata": {},
   "source": [
    "# Include "
   ]
  },
  {
   "cell_type": "code",
   "execution_count": 32,
   "id": "67caadb1-ccc2-4323-9ae3-ef178f1e796a",
   "metadata": {},
   "outputs": [],
   "source": [
    "import json\n",
    "import numpy as np\n",
    "import os\n",
    "import random\n",
    "\n",
    "from os.path import expanduser"
   ]
  },
  {
   "cell_type": "markdown",
   "id": "0363cbe6-77a3-40ba-b44f-f7a3438720c4",
   "metadata": {},
   "source": [
    "# Definitions "
   ]
  },
  {
   "cell_type": "code",
   "execution_count": null,
   "id": "2d55a04a-e98d-4766-82d9-f867ae744b29",
   "metadata": {},
   "outputs": [],
   "source": []
  },
  {
   "cell_type": "markdown",
   "id": "062097bb-d313-4b7b-b442-726b09992dab",
   "metadata": {},
   "source": [
    "# Main course"
   ]
  },
  {
   "cell_type": "markdown",
   "id": "d6a69822-7920-4604-9413-14680a836bd1",
   "metadata": {},
   "source": [
    "## Load geography"
   ]
  },
  {
   "cell_type": "code",
   "execution_count": 4,
   "id": "1b819bc8-3177-4f21-9ae6-eb6bf0a2c760",
   "metadata": {},
   "outputs": [],
   "source": [
    "base = expanduser(\"~/database/shad/generate_text/ru\")"
   ]
  },
  {
   "cell_type": "code",
   "execution_count": 5,
   "id": "5eb5a016-5a38-4fea-8561-afc20caefb8d",
   "metadata": {},
   "outputs": [],
   "source": [
    "filenames = [\"city\", \"hamlet\", \"town\", \"village\"]"
   ]
  },
  {
   "cell_type": "code",
   "execution_count": 11,
   "id": "e8e9896c-d22c-496c-8003-faaf41332225",
   "metadata": {},
   "outputs": [],
   "source": [
    "dataset_raw = [json.loads(line) for current_name in filenames for line in open(os.path.join(base, f\"place-{current_name}.ndjson\"))]"
   ]
  },
  {
   "cell_type": "code",
   "execution_count": 12,
   "id": "f87d2c4c-b1f5-4408-9ae9-dad330baee82",
   "metadata": {},
   "outputs": [
    {
     "data": {
      "text/plain": [
       "253192"
      ]
     },
     "execution_count": 12,
     "metadata": {},
     "output_type": "execute_result"
    }
   ],
   "source": [
    "len(dataset_raw)"
   ]
  },
  {
   "cell_type": "code",
   "execution_count": 13,
   "id": "d1a66db4-0057-4a69-a7ef-6571809cd7b1",
   "metadata": {},
   "outputs": [
    {
     "data": {
      "text/plain": [
       "57"
      ]
     },
     "execution_count": 13,
     "metadata": {},
     "output_type": "execute_result"
    }
   ],
   "source": [
    "sum(1 for r in dataset_raw if \"name\" not in r)"
   ]
  },
  {
   "cell_type": "code",
   "execution_count": 14,
   "id": "3aaf3627-c97c-48b8-9a1b-db797c6896b4",
   "metadata": {},
   "outputs": [],
   "source": [
    "names = [r[\"name\"] for r in dataset_raw if \"name\" in r]"
   ]
  },
  {
   "cell_type": "code",
   "execution_count": 15,
   "id": "464e5d01-84fe-4f6a-a59b-038620d30512",
   "metadata": {},
   "outputs": [
    {
     "data": {
      "text/plain": [
       "253135"
      ]
     },
     "execution_count": 15,
     "metadata": {},
     "output_type": "execute_result"
    }
   ],
   "source": [
    "len(names)"
   ]
  },
  {
   "cell_type": "code",
   "execution_count": 16,
   "id": "658c1f9e-24ad-4853-bf0d-f7a6b207bdbf",
   "metadata": {},
   "outputs": [],
   "source": [
    "uniq_names = list(set(names))"
   ]
  },
  {
   "cell_type": "code",
   "execution_count": 17,
   "id": "69068416-4211-48cc-a9ba-4f6322f4ba9e",
   "metadata": {},
   "outputs": [
    {
     "data": {
      "text/plain": [
       "77411"
      ]
     },
     "execution_count": 17,
     "metadata": {},
     "output_type": "execute_result"
    }
   ],
   "source": [
    "len(uniq_names)"
   ]
  },
  {
   "cell_type": "code",
   "execution_count": 19,
   "id": "f4c17670-248b-4291-b3cf-dc906f9ce3a2",
   "metadata": {},
   "outputs": [],
   "source": [
    "random.shuffle(uniq_names)"
   ]
  },
  {
   "cell_type": "code",
   "execution_count": 20,
   "id": "df5ffa28-da44-49d3-b165-886ba2de0965",
   "metadata": {},
   "outputs": [
    {
     "data": {
      "text/plain": [
       "['Монаково',\n",
       " 'Старшино',\n",
       " 'Крык-Пшак',\n",
       " 'Клещенки',\n",
       " 'Мослово',\n",
       " 'Медведева',\n",
       " 'Малоалександровка',\n",
       " 'Чума-Елга',\n",
       " 'Нарытка',\n",
       " 'Большие Боты']"
      ]
     },
     "execution_count": 20,
     "metadata": {},
     "output_type": "execute_result"
    }
   ],
   "source": [
    "uniq_names[:10]"
   ]
  },
  {
   "cell_type": "code",
   "execution_count": 24,
   "id": "3fbd2790-6a3c-4fc2-8262-daea715e7bc5",
   "metadata": {},
   "outputs": [],
   "source": [
    "alphabet=sorted(list(set(c for r in uniq_names for c in r)))"
   ]
  },
  {
   "cell_type": "code",
   "execution_count": 25,
   "id": "104c00b6-cc51-4519-a9d9-65f2b2313d22",
   "metadata": {},
   "outputs": [
    {
     "data": {
      "text/plain": [
       "' \"(),-./0123456789IVXc\\xa0«»́ЁАБВГДЕЖЗИЙКЛМНОПРСТУФХЦЧШЩЫЭЮЯабвгдежзийклмнопрстуфхцчшщъыьэюяё№'"
      ]
     },
     "execution_count": 25,
     "metadata": {},
     "output_type": "execute_result"
    }
   ],
   "source": [
    "\"\".join(alphabet)"
   ]
  },
  {
   "cell_type": "code",
   "execution_count": 27,
   "id": "eef8b3f8-fa44-4077-8b67-dc8e4720070d",
   "metadata": {},
   "outputs": [],
   "source": [
    "ss_alphabet = alphabet + [\"<\", \">\"]"
   ]
  },
  {
   "cell_type": "code",
   "execution_count": 29,
   "id": "ace01756-efa8-4614-9ca5-a593f6744ce3",
   "metadata": {},
   "outputs": [],
   "source": [
    "c2ind = {c:ind for ind, c in enumerate(ss_alphabet)}\n",
    "ind2c = {c:ind for ind, c in enumerate(ss_alphabet)}"
   ]
  },
  {
   "cell_type": "code",
   "execution_count": 30,
   "id": "5222f465-f99c-4be0-acb3-62b44425dc5e",
   "metadata": {},
   "outputs": [],
   "source": [
    "ss_names = [\"<\" + v + \">\" for v in uniq_names]"
   ]
  },
  {
   "cell_type": "code",
   "execution_count": 31,
   "id": "e7cb4ace-3f88-4994-80e0-3ef5bacf78a8",
   "metadata": {},
   "outputs": [
    {
     "data": {
      "text/plain": [
       "['<Монаково>',\n",
       " '<Старшино>',\n",
       " '<Крык-Пшак>',\n",
       " '<Клещенки>',\n",
       " '<Мослово>',\n",
       " '<Медведева>',\n",
       " '<Малоалександровка>',\n",
       " '<Чума-Елга>',\n",
       " '<Нарытка>',\n",
       " '<Большие Боты>']"
      ]
     },
     "execution_count": 31,
     "metadata": {},
     "output_type": "execute_result"
    }
   ],
   "source": [
    "ss_names[:10]"
   ]
  },
  {
   "cell_type": "code",
   "execution_count": 35,
   "id": "ceacaca3-ed3e-4ea6-8501-de94218c5a5d",
   "metadata": {},
   "outputs": [],
   "source": [
    "a = np.zeros((10, 1))\n",
    "b = np.zeros((1, 10))"
   ]
  },
  {
   "cell_type": "code",
   "execution_count": 37,
   "id": "63eb804b-46ff-4290-a7bf-b20d0c91b30d",
   "metadata": {},
   "outputs": [
    {
     "data": {
      "text/plain": [
       "array([[0., 0., 0., 0., 0., 0., 0., 0., 0., 0.],\n",
       "       [0., 0., 0., 0., 0., 0., 0., 0., 0., 0.],\n",
       "       [0., 0., 0., 0., 0., 0., 0., 0., 0., 0.],\n",
       "       [0., 0., 0., 0., 0., 0., 0., 0., 0., 0.],\n",
       "       [0., 0., 0., 0., 0., 0., 0., 0., 0., 0.],\n",
       "       [0., 0., 0., 0., 0., 0., 0., 0., 0., 0.],\n",
       "       [0., 0., 0., 0., 0., 0., 0., 0., 0., 0.],\n",
       "       [0., 0., 0., 0., 0., 0., 0., 0., 0., 0.],\n",
       "       [0., 0., 0., 0., 0., 0., 0., 0., 0., 0.],\n",
       "       [0., 0., 0., 0., 0., 0., 0., 0., 0., 0.]])"
      ]
     },
     "execution_count": 37,
     "metadata": {},
     "output_type": "execute_result"
    }
   ],
   "source": [
    "np.dot(a, b)"
   ]
  },
  {
   "cell_type": "code",
   "execution_count": null,
   "id": "586e2092-3782-41ad-aa48-2d48f993c533",
   "metadata": {},
   "outputs": [],
   "source": []
  }
 ],
 "metadata": {
  "kernelspec": {
   "display_name": "Python 3 (ipykernel)",
   "language": "python",
   "name": "python3"
  },
  "language_info": {
   "codemirror_mode": {
    "name": "ipython",
    "version": 3
   },
   "file_extension": ".py",
   "mimetype": "text/x-python",
   "name": "python",
   "nbconvert_exporter": "python",
   "pygments_lexer": "ipython3",
   "version": "3.12.8"
  }
 },
 "nbformat": 4,
 "nbformat_minor": 5
}
