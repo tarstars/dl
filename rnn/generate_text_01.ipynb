{
 "cells": [
  {
   "cell_type": "markdown",
   "id": "c45efbf4-0bd3-4bc0-a408-da85e63524f3",
   "metadata": {},
   "source": [
    "# Include "
   ]
  },
  {
   "cell_type": "code",
   "execution_count": 1,
   "id": "67caadb1-ccc2-4323-9ae3-ef178f1e796a",
   "metadata": {},
   "outputs": [],
   "source": [
    "import json\n",
    "import numpy as np\n",
    "import os\n",
    "import random\n",
    "\n",
    "from os.path import expanduser"
   ]
  },
  {
   "cell_type": "markdown",
   "id": "0363cbe6-77a3-40ba-b44f-f7a3438720c4",
   "metadata": {},
   "source": [
    "# Definitions "
   ]
  },
  {
   "cell_type": "code",
   "execution_count": null,
   "id": "2d55a04a-e98d-4766-82d9-f867ae744b29",
   "metadata": {},
   "outputs": [],
   "source": []
  },
  {
   "cell_type": "markdown",
   "id": "062097bb-d313-4b7b-b442-726b09992dab",
   "metadata": {},
   "source": [
    "# Main course"
   ]
  },
  {
   "cell_type": "markdown",
   "id": "d6a69822-7920-4604-9413-14680a836bd1",
   "metadata": {},
   "source": [
    "## Load geography"
   ]
  },
  {
   "cell_type": "code",
   "execution_count": 2,
   "id": "1b819bc8-3177-4f21-9ae6-eb6bf0a2c760",
   "metadata": {},
   "outputs": [],
   "source": [
    "base = expanduser(\"~/database/shad/generate_text/ru\")"
   ]
  },
  {
   "cell_type": "code",
   "execution_count": 3,
   "id": "5eb5a016-5a38-4fea-8561-afc20caefb8d",
   "metadata": {},
   "outputs": [],
   "source": [
    "filenames = [\"city\", \"hamlet\", \"town\", \"village\"]"
   ]
  },
  {
   "cell_type": "code",
   "execution_count": 4,
   "id": "e8e9896c-d22c-496c-8003-faaf41332225",
   "metadata": {},
   "outputs": [],
   "source": [
    "dataset_raw = [json.loads(line) for current_name in filenames for line in open(os.path.join(base, f\"place-{current_name}.ndjson\"))]"
   ]
  },
  {
   "cell_type": "code",
   "execution_count": 5,
   "id": "f87d2c4c-b1f5-4408-9ae9-dad330baee82",
   "metadata": {},
   "outputs": [
    {
     "data": {
      "text/plain": [
       "253192"
      ]
     },
     "execution_count": 5,
     "metadata": {},
     "output_type": "execute_result"
    }
   ],
   "source": [
    "len(dataset_raw)"
   ]
  },
  {
   "cell_type": "code",
   "execution_count": 6,
   "id": "d1a66db4-0057-4a69-a7ef-6571809cd7b1",
   "metadata": {},
   "outputs": [
    {
     "data": {
      "text/plain": [
       "57"
      ]
     },
     "execution_count": 6,
     "metadata": {},
     "output_type": "execute_result"
    }
   ],
   "source": [
    "sum(1 for r in dataset_raw if \"name\" not in r)"
   ]
  },
  {
   "cell_type": "code",
   "execution_count": 7,
   "id": "3aaf3627-c97c-48b8-9a1b-db797c6896b4",
   "metadata": {},
   "outputs": [],
   "source": [
    "names = [r[\"name\"] for r in dataset_raw if \"name\" in r]"
   ]
  },
  {
   "cell_type": "code",
   "execution_count": 8,
   "id": "464e5d01-84fe-4f6a-a59b-038620d30512",
   "metadata": {},
   "outputs": [
    {
     "data": {
      "text/plain": [
       "253135"
      ]
     },
     "execution_count": 8,
     "metadata": {},
     "output_type": "execute_result"
    }
   ],
   "source": [
    "len(names)"
   ]
  },
  {
   "cell_type": "code",
   "execution_count": 9,
   "id": "658c1f9e-24ad-4853-bf0d-f7a6b207bdbf",
   "metadata": {},
   "outputs": [],
   "source": [
    "uniq_names = list(set(names))"
   ]
  },
  {
   "cell_type": "code",
   "execution_count": 10,
   "id": "69068416-4211-48cc-a9ba-4f6322f4ba9e",
   "metadata": {},
   "outputs": [
    {
     "data": {
      "text/plain": [
       "77411"
      ]
     },
     "execution_count": 10,
     "metadata": {},
     "output_type": "execute_result"
    }
   ],
   "source": [
    "len(uniq_names)"
   ]
  },
  {
   "cell_type": "code",
   "execution_count": 11,
   "id": "f4c17670-248b-4291-b3cf-dc906f9ce3a2",
   "metadata": {},
   "outputs": [],
   "source": [
    "random.shuffle(uniq_names)"
   ]
  },
  {
   "cell_type": "code",
   "execution_count": 12,
   "id": "df5ffa28-da44-49d3-b165-886ba2de0965",
   "metadata": {},
   "outputs": [
    {
     "data": {
      "text/plain": [
       "['Нижнее Кучуково',\n",
       " 'Кораблёвка',\n",
       " 'Пуляева',\n",
       " 'Пиженькасы',\n",
       " 'Приданцево',\n",
       " 'Минулово',\n",
       " 'Ажерово',\n",
       " 'Пашичи',\n",
       " 'Кизилово',\n",
       " 'Орбельяновка']"
      ]
     },
     "execution_count": 12,
     "metadata": {},
     "output_type": "execute_result"
    }
   ],
   "source": [
    "uniq_names[:10]"
   ]
  },
  {
   "cell_type": "code",
   "execution_count": 13,
   "id": "3fbd2790-6a3c-4fc2-8262-daea715e7bc5",
   "metadata": {},
   "outputs": [],
   "source": [
    "alphabet=sorted(list(set(c for r in uniq_names for c in r)))"
   ]
  },
  {
   "cell_type": "code",
   "execution_count": 14,
   "id": "104c00b6-cc51-4519-a9d9-65f2b2313d22",
   "metadata": {},
   "outputs": [
    {
     "data": {
      "text/plain": [
       "' \"(),-./0123456789IVXc\\xa0«»́ЁАБВГДЕЖЗИЙКЛМНОПРСТУФХЦЧШЩЫЭЮЯабвгдежзийклмнопрстуфхцчшщъыьэюяё№'"
      ]
     },
     "execution_count": 14,
     "metadata": {},
     "output_type": "execute_result"
    }
   ],
   "source": [
    "\"\".join(alphabet)"
   ]
  },
  {
   "cell_type": "code",
   "execution_count": 15,
   "id": "eef8b3f8-fa44-4077-8b67-dc8e4720070d",
   "metadata": {},
   "outputs": [],
   "source": [
    "ss_alphabet = alphabet + [\"<\", \">\"]"
   ]
  },
  {
   "cell_type": "code",
   "execution_count": 16,
   "id": "ace01756-efa8-4614-9ca5-a593f6744ce3",
   "metadata": {},
   "outputs": [],
   "source": [
    "c2ind = {c:ind for ind, c in enumerate(ss_alphabet)}\n",
    "ind2c = {c:ind for ind, c in enumerate(ss_alphabet)}"
   ]
  },
  {
   "cell_type": "code",
   "execution_count": 17,
   "id": "5222f465-f99c-4be0-acb3-62b44425dc5e",
   "metadata": {},
   "outputs": [],
   "source": [
    "ss_names = [\"<\" + v + \">\" for v in uniq_names]"
   ]
  },
  {
   "cell_type": "code",
   "execution_count": 18,
   "id": "e7cb4ace-3f88-4994-80e0-3ef5bacf78a8",
   "metadata": {},
   "outputs": [
    {
     "data": {
      "text/plain": [
       "['<Нижнее Кучуково>',\n",
       " '<Кораблёвка>',\n",
       " '<Пуляева>',\n",
       " '<Пиженькасы>',\n",
       " '<Приданцево>',\n",
       " '<Минулово>',\n",
       " '<Ажерово>',\n",
       " '<Пашичи>',\n",
       " '<Кизилово>',\n",
       " '<Орбельяновка>']"
      ]
     },
     "execution_count": 18,
     "metadata": {},
     "output_type": "execute_result"
    }
   ],
   "source": [
    "ss_names[:10]"
   ]
  },
  {
   "cell_type": "markdown",
   "id": "d08ea67d-3c71-403e-8e83-1ecb344272fa",
   "metadata": {},
   "source": [
    "# Create dataset"
   ]
  },
  {
   "cell_type": "code",
   "execution_count": 19,
   "id": "69865790-bccb-456c-84de-972d8ba72365",
   "metadata": {},
   "outputs": [
    {
     "data": {
      "text/plain": [
       "892218"
      ]
     },
     "execution_count": 19,
     "metadata": {},
     "output_type": "execute_result"
    }
   ],
   "source": [
    "text = \"\".join(ss_names)\n",
    "len(text)"
   ]
  },
  {
   "cell_type": "code",
   "execution_count": 20,
   "id": "c2010e03-7e19-4f3d-99d3-b79d8a4580de",
   "metadata": {},
   "outputs": [
    {
     "data": {
      "text/plain": [
       "'<Нижнее Кучуково><Кораблёвка><Пуляева><Пиженькасы><Приданцево><Минулово><Ажерово><Пашичи><Кизилово><Орбельяновка><Кошибеево><Тарасово><Желтино><Вторая Глушковская><Рукавишниково><Трудовой><Ояш><Льнозавод><Гертма><Долбачи><Янавыл><отделения № 3 совхоза \"Степной\"><Ильицыно><Коконогово><Борисовский><Погост Дмитрия Солунского><Усть-Баргузин><Бабахино><Погари><Ванченки><Малый Липовчик><Повышево><Карамас-Пельга><Воловчик><Серегиж><Помозово><Большая Омутная><Адышево><Колодье><Подусово><Павельцево><Матохино><Чахлово><Кислицкий><Аудио><Воротыня><Омогаево><Буккамахи><Малыновщина><Аммала><Скользихино><Госсортучасток><Даньшин Ручей><Арбузов><Бакаи><Седлистое><Нижнее Кожухово><Красная Веретья><Большемедведевский><Нонбург><Баян-Гол><Балеевка><Ознобищево><Поляки><Разбегаево><Лухнево><Лангерево><Тепелево><Нижние Карамалы><Дубровская><Верхний Бисер><Авати><Тюпкильды><Банщиково><Лигрон><Каталовское><Новосёлка><Железный Перебор><Бенек><Белгородка><Бурундуки><Переяславка><Онуфриево><Прошинская><Старое Шигалеево><Мидяково><Опарино><Чинета><Хотовань><Койгуши><Головково-Марьино><Корневой><Нижняя Волпа><Кушково><Сорочиха><Старое Мозино><Большое Ремонтное><Рублёвка><Нова><Трофимково><Чичириха><Короцко><Желюхово><Большое Осаново><Нурлино><Смолячково><Музалевка><Котяково><Орловская Балка><Саров><Белобородова><Латышев><Вакулово><Прибылов><Шудимари><Новоказацкий><Зелёная Роща><Орусъярви><отделения № 6 совхоза \"Новосергиевский\"><Старая Станица><Большая Михайловка><имени Нариманова><Нижняя Никитинская><Орлецы><Узей-Тукля><Малькеевка><посёлок центральной усадьбы совхоза \"Уваровский-2\"><Катагоща><Софье-Алексеевское><Ветью><Пироговский Участок><Дядьковская><Победиха><Учами><Малый Крупец><Алпаево><Кадахта><Черёха><Старая Майна><Нижний Курень><Абанино><Смак-Корса><Шугайлово><43 км><Хлевное><Сороколетово><Красностепновское><Грудиново><Темненево><Перепечиха><Малые Кулиги><Шелепаново><Александровка Первая><Нестеркин><Шипилино><Нестерова><Подхожее><Новые Батеки><Уколово><Верх><Василь-Тумашевка><Хорошево><Биляр-Озеро><Устиновская><2-й Бобровский><Воробьёва><Ильпырский><Кортяшево><Борисовка Вторая><Посевная><Ямново><Тупеево><Лесокомбината><Нижний Прихон><Верх-Четск><Булыга-Фадеево><1125 км><Забродовка><Иргей><Бакур><Малая Иховалжа><Старое Калугово><Исправная><2640 км><Деденёво><Симонтовка><посёлок при 14 шлюзе ББК><Михири><Алино><Новокаминка><Росташи><Червянка><Мезенка><Коровье><Борславлево><Манцин Кец><Малая Малышевка><Малое Агишево><Стребки><Мурадымово><Мишата><Горная Поляна><Кзыл-Юлдузский лесхоз><Барболино><Осташевская><Миняевская><Новодеревенское><Славгородка><Ванина><Ятмас Дусай><Мендерское><Солдаткино><Губычево><Малый Ошняк><Чеглаки><Ачит><Бирючово><Бочейно><Мошаны><Артамас><Чёрная Кома><Монделево><Турчино><Варяш><Залупья><Антухово><Кульчурово><Уразбаева><Каветка><Большой Карлук><1-я Набережная><Пустошки><Старая Турья><Остальцы><Соловьево><Керес><Случково><Мустово><Большая Березина><Задоньевский><Вахтовый жилой комплекс \"Лугинецкий\"><Пекшево><Верхнекарелина><Верх-Чуманка><Дресвища><Вертехово><Барское-Махрово><Понкратово><Тугургой><Кармаскалы><Мителево><Страмиловка><Ходаков><Дубская><Теньково><Участок 3-го Госконезавода><Карамурзинский><Колбенки><Большое Сидорово><Курилково><Саханская><Камышово><Малокурганный><Воротцы><Корентяева><Малый Наволок><Рубежики><Старая Крапивенка><Черноборье><Образцы><Шмойлово><Чикули><Лаптюг><Тихновская><Клемятино><Худышка><Сугуты><Юлушево><Родюково><Харичи><посёлок при 12 шлюзе ББК><Новая Ура><Грини><Кононцево><Тереклы><Вятка><Верхняя Тишанка><Большая Володарка><Бухово><Большая Сестра><Гнездилова Гора><Кунистино><Синий Курган><Туркинский><Якишево><Русская Шуйма><Пробожье Поле><Красницы><Коровье Болото><Веребск><Лютоголово><Тюбетеево><Шустовка><Бутынь><Русские Карши><Березье><Вознесенск><Верхнее Шахлово><Алзобей><Мураково><Топково><Чаверина><Хотьково><Малое Голоустное><Экономичено><Жизло-Павлово><Потякши><Слотино><Кривое><Морозкино><Карповское-на-Письме><Могильное><Муратовка><Булус><Благодаровка><Байкино><Краевая><Каменный Городец><Со'"
      ]
     },
     "execution_count": 20,
     "metadata": {},
     "output_type": "execute_result"
    }
   ],
   "source": [
    "text[:4000]"
   ]
  },
  {
   "cell_type": "markdown",
   "id": "df57fc12-0f4b-45df-9f11-2bbbf01e768c",
   "metadata": {},
   "source": [
    "# Forward pass"
   ]
  },
  {
   "cell_type": "markdown",
   "id": "c9f23c96-0114-480d-9852-de9e40d5811b",
   "metadata": {},
   "source": [
    "## Create a model"
   ]
  },
  {
   "cell_type": "code",
   "execution_count": 31,
   "id": "c165e60d-6cf3-405a-b522-e97d2874733d",
   "metadata": {},
   "outputs": [],
   "source": [
    "hsz = 100 # hidden size\n",
    "vsz = len(ss_alphabet) # vocabulary size\n",
    "seq_length = 25 # the size of window\n",
    "lr = 1e-3"
   ]
  },
  {
   "cell_type": "code",
   "execution_count": 32,
   "id": "74347ae3-1c49-44eb-a138-a119d0b79aab",
   "metadata": {},
   "outputs": [],
   "source": [
    "Wxh = np.random.randn(hsz, vsz) * 0.01\n",
    "Whh = np.random.randn(hsz, hsz) * 0.01\n",
    "Why = np.random.randn(vsz, hsz) * 0.01\n",
    "bh = np.zeros((hsz, 1))\n",
    "by = np.zeros((vsz, 1))"
   ]
  },
  {
   "cell_type": "code",
   "execution_count": 33,
   "id": "9310245a-b103-4fdd-86fa-c6f387674f2e",
   "metadata": {},
   "outputs": [],
   "source": [
    "def gen_portion(text, seq_len):\n",
    "    for iter in range(len(text) // seq_len):\n",
    "        yield text[iter * seq_len: (iter + 1) * seq_len]"
   ]
  },
  {
   "cell_type": "code",
   "execution_count": 34,
   "id": "33f0324d-edf3-440d-b512-2e67d85811a1",
   "metadata": {},
   "outputs": [],
   "source": [
    "def calcLoss(ind_input, ind_target, hprev):\n",
    "    xs, hs, ys, ps = {}, {}, {}, {}\n",
    "    hs[-1] = np.copy(hprev)\n",
    "    loss = 0\n",
    "    for t in range(len(ind_input)):\n",
    "        xs[t] = np.zeros((vsz, 1))\n",
    "        xs[t][ind_input[t]] = 1\n",
    "        hs[t] = np.tanh(Wxh@xs[t] + Whh@hs[t-1] + bh)\n",
    "        ys[t] = Why@hs[t] + by\n",
    "        ps[t] = np.exp(ys[t]) / np.sum(np.exp(ys[t]))\n",
    "        loss -= np.log(ps[t][ind_target[t], 0])\n",
    "\n",
    "    dWhh, dWxh, dWhy = np.zeros_like(Whh), np.zeros_like(Wxh), np.zeros_like(Why)\n",
    "    dbh, dby = np.zeros_like(bh), np.zeros_like(by)\n",
    "    dhnext = np.zeros_like(hs[0])\n",
    "    for t in reversed(range(len(ind_input))):\n",
    "        dy = np.copy(ps[t])\n",
    "        dy[ind_target[t]] -= 1 # backprop into y. see http://cs231n.github.io/neural-networks-case-study/#grad if confused here\n",
    "        dWhy += dy@hs[t].T\n",
    "        dby += dy\n",
    "        dh = Why.T @ dy + dhnext # backprop into h\n",
    "        dhraw = (1 - hs[t] * hs[t]) * dh # backprop through tanh nonlinearity\n",
    "        dbh += dhraw\n",
    "        dWxh += dhraw @ xs[t].T\n",
    "        dWhh += dhraw @ hs[t-1].T\n",
    "        dhnext = Whh.T @ dhraw\n",
    "    for dparam in [dWxh, dWhh, dWhy, dbh, dby]:\n",
    "        np.clip(dparam, -5, 5, out=dparam) # clip to mitigate exploding gradients\n",
    "    return loss, dWxh, dWhh, dWhy, dbh, dby, hs[-1]"
   ]
  },
  {
   "cell_type": "code",
   "execution_count": 38,
   "id": "3aceef3e-384c-408b-9d45-64c1c1167844",
   "metadata": {},
   "outputs": [
    {
     "name": "stdout",
     "output_type": "stream",
     "text": [
      "loss = 42.89116707342369\n",
      "loss = 47.112533795896745\n",
      "loss = 49.0205968691343\n",
      "loss = 57.02887554468034\n"
     ]
    }
   ],
   "source": [
    "hprev = np.zeros((hsz, 1))\n",
    "for ind, portion in enumerate(gen_portion(text, seq_length)):\n",
    "    text_input, text_target = portion[:-1], portion[1:]\n",
    "    ind_input = [c2ind[c] for c in text_input]\n",
    "    ind_target = [c2ind[c] for c in text_target]\n",
    "    loss, dWxh, dWhh, dWhy, dbh, dby, hprev = calcLoss(ind_input, ind_target, hprev)\n",
    "    if ind % 10000 == 0:\n",
    "        print(\"loss =\", loss)\n",
    "\n",
    "    for param, dparam in [[Wxh, dWxh], [Whh, dWhh], [Why, dWhy], [bh, dbh], [by, dby]]:\n",
    "        param -= lr * dparam"
   ]
  },
  {
   "cell_type": "code",
   "execution_count": 33,
   "id": "21b9f994-509f-431a-a6b9-a1a40acbdde3",
   "metadata": {},
   "outputs": [
    {
     "data": {
      "text/plain": [
       "'<Белая Глина><Напольные В'"
      ]
     },
     "execution_count": 33,
     "metadata": {},
     "output_type": "execute_result"
    }
   ],
   "source": [
    "portion = next(gen_portion(text, seq_length))\n",
    "portion"
   ]
  },
  {
   "cell_type": "code",
   "execution_count": 38,
   "id": "38785fa5-da47-4363-8e5f-2c9499d6fb79",
   "metadata": {},
   "outputs": [],
   "source": [
    "text_input, text_target = portion[:-1], portion[1:]\n",
    "ind_input = [c2ind[c] for c in text_input]\n",
    "ind_target = [c2ind[c] for c in text_target]"
   ]
  },
  {
   "cell_type": "code",
   "execution_count": 39,
   "id": "66c35eeb-6ddf-4d82-b3df-fa572ab540e9",
   "metadata": {},
   "outputs": [],
   "source": [
    "t = len(ind_input) - 1"
   ]
  },
  {
   "cell_type": "code",
   "execution_count": 40,
   "id": "7eeae402-27d7-40e6-9309-a1bb5164b94b",
   "metadata": {},
   "outputs": [],
   "source": [
    "xs, hs, ys, ps = {}, {}, {}, {}"
   ]
  },
  {
   "cell_type": "code",
   "execution_count": 41,
   "id": "ecb707b6-25be-4269-a22d-344ac4ed448c",
   "metadata": {},
   "outputs": [],
   "source": [
    "hs[-1] = np.copy(hprev)"
   ]
  },
  {
   "cell_type": "code",
   "execution_count": 42,
   "id": "61e662cf-03a3-494f-bbc4-0c1345a2da5a",
   "metadata": {},
   "outputs": [],
   "source": [
    "xs[t] = np.zeros((vs, 1))"
   ]
  },
  {
   "cell_type": "code",
   "execution_count": 43,
   "id": "8fc3d84f-d0f2-45ef-82c9-b9896c33c73c",
   "metadata": {},
   "outputs": [],
   "source": [
    "xs[t][ind_input[t]] = 1"
   ]
  },
  {
   "cell_type": "code",
   "execution_count": 45,
   "id": "adada468-2e88-43c5-a442-5017d30be846",
   "metadata": {},
   "outputs": [
    {
     "data": {
      "text/plain": [
       "array([[ 6.46998760e-03],\n",
       "       [ 7.08770909e-03],\n",
       "       [-1.12802445e-02],\n",
       "       [-1.02499101e-02],\n",
       "       [-7.93905318e-05],\n",
       "       [-2.67815815e-02],\n",
       "       [ 7.17522060e-03],\n",
       "       [-8.89663606e-03],\n",
       "       [ 8.56868475e-03],\n",
       "       [ 2.26787502e-03],\n",
       "       [-1.07530893e-02],\n",
       "       [ 6.13865942e-03],\n",
       "       [-1.45111656e-03],\n",
       "       [ 1.24106583e-02],\n",
       "       [ 1.61592328e-02],\n",
       "       [-1.69174022e-02],\n",
       "       [ 8.51485273e-03],\n",
       "       [-3.69515694e-03],\n",
       "       [ 3.29967574e-03],\n",
       "       [ 1.18893457e-03],\n",
       "       [ 1.62581647e-02],\n",
       "       [ 1.01745632e-02],\n",
       "       [ 1.05941444e-02],\n",
       "       [-6.12373812e-03],\n",
       "       [-1.67165927e-03],\n",
       "       [-8.21127770e-04],\n",
       "       [ 3.59990998e-03],\n",
       "       [ 1.33340931e-03],\n",
       "       [ 5.59201696e-03],\n",
       "       [ 1.36779960e-03],\n",
       "       [-1.31541839e-02],\n",
       "       [-6.63189396e-03],\n",
       "       [ 8.73303025e-03],\n",
       "       [-1.37820509e-02],\n",
       "       [-5.86929152e-03],\n",
       "       [-1.80181974e-02],\n",
       "       [-5.78365577e-03],\n",
       "       [ 1.07221777e-02],\n",
       "       [-1.69203027e-02],\n",
       "       [ 8.82315723e-03],\n",
       "       [ 2.40002393e-03],\n",
       "       [ 6.63722577e-03],\n",
       "       [ 6.19041383e-03],\n",
       "       [-1.70196899e-03],\n",
       "       [-3.40063153e-03],\n",
       "       [-4.25141978e-03],\n",
       "       [-7.86799791e-03],\n",
       "       [-1.27409719e-03],\n",
       "       [ 6.08858861e-03],\n",
       "       [ 5.10140222e-03],\n",
       "       [ 2.54878347e-03],\n",
       "       [-7.33688729e-03],\n",
       "       [-2.40799337e-02],\n",
       "       [-1.28195694e-02],\n",
       "       [ 1.04430244e-02],\n",
       "       [-3.97906411e-03],\n",
       "       [-2.69779626e-03],\n",
       "       [ 6.59463375e-03],\n",
       "       [ 7.99673429e-03],\n",
       "       [ 1.33266028e-02],\n",
       "       [-6.51811747e-03],\n",
       "       [ 8.35142685e-03],\n",
       "       [-7.91144405e-04],\n",
       "       [ 7.55524353e-03],\n",
       "       [ 9.97893169e-03],\n",
       "       [ 7.02919476e-03],\n",
       "       [ 8.39789364e-03],\n",
       "       [-1.88542140e-03],\n",
       "       [-4.66135845e-03],\n",
       "       [-1.33072833e-04],\n",
       "       [-1.60493423e-02],\n",
       "       [ 1.20367172e-02],\n",
       "       [-4.51425035e-03],\n",
       "       [ 1.81792838e-03],\n",
       "       [-3.79189955e-03],\n",
       "       [-2.69918132e-03],\n",
       "       [-1.48250593e-02],\n",
       "       [-1.35842120e-02],\n",
       "       [ 6.50095078e-03],\n",
       "       [-1.68243293e-02],\n",
       "       [ 1.81927816e-03],\n",
       "       [ 1.14219758e-02],\n",
       "       [-3.73168563e-03],\n",
       "       [ 7.08399060e-03],\n",
       "       [ 5.51940664e-03],\n",
       "       [ 2.51625280e-03],\n",
       "       [ 6.49109206e-03],\n",
       "       [ 3.71636501e-03],\n",
       "       [-5.89532956e-04],\n",
       "       [ 2.61278033e-03],\n",
       "       [ 4.85716472e-03],\n",
       "       [-4.29636941e-03],\n",
       "       [ 6.65597032e-03],\n",
       "       [ 9.37779585e-03],\n",
       "       [-1.46815482e-02],\n",
       "       [-9.95427788e-03],\n",
       "       [ 4.19007156e-03],\n",
       "       [-1.42940275e-02],\n",
       "       [-6.45140296e-03],\n",
       "       [ 1.56721255e-02]])"
      ]
     },
     "execution_count": 45,
     "metadata": {},
     "output_type": "execute_result"
    }
   ],
   "source": [
    "Wxh@xs[t]"
   ]
  },
  {
   "cell_type": "code",
   "execution_count": null,
   "id": "2ee1f118-f5a8-41c3-99e6-2735a8b7c3f0",
   "metadata": {},
   "outputs": [],
   "source": []
  }
 ],
 "metadata": {
  "kernelspec": {
   "display_name": "Python 3 (ipykernel)",
   "language": "python",
   "name": "python3"
  },
  "language_info": {
   "codemirror_mode": {
    "name": "ipython",
    "version": 3
   },
   "file_extension": ".py",
   "mimetype": "text/x-python",
   "name": "python",
   "nbconvert_exporter": "python",
   "pygments_lexer": "ipython3",
   "version": "3.12.8"
  }
 },
 "nbformat": 4,
 "nbformat_minor": 5
}
